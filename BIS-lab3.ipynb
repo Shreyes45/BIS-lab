{
  "nbformat": 4,
  "nbformat_minor": 0,
  "metadata": {
    "colab": {
      "provenance": [],
      "authorship_tag": "ABX9TyOL2OdDkE0G8lT66N7gtBs9",
      "include_colab_link": true
    },
    "kernelspec": {
      "name": "python3",
      "display_name": "Python 3"
    },
    "language_info": {
      "name": "python"
    }
  },
  "cells": [
    {
      "cell_type": "markdown",
      "metadata": {
        "id": "view-in-github",
        "colab_type": "text"
      },
      "source": [
        "<a href=\"https://colab.research.google.com/github/Shreyes45/BIS-lab/blob/main/BIS-lab3.ipynb\" target=\"_parent\"><img src=\"https://colab.research.google.com/assets/colab-badge.svg\" alt=\"Open In Colab\"/></a>"
      ]
    },
    {
      "cell_type": "code",
      "execution_count": 1,
      "metadata": {
        "colab": {
          "base_uri": "https://localhost:8080/"
        },
        "id": "fYLpQHU6Vn4X",
        "outputId": "ca3c8e3d-4081-4099-f7a2-6ebceee0ebb5"
      },
      "outputs": [
        {
          "output_type": "stream",
          "name": "stdout",
          "text": [
            "Best Route: [3, 9, 5, 8, 4, 6, 0, 2, 7, 1]\n",
            "Best Length: 252.89334034635635\n"
          ]
        }
      ],
      "source": [
        "import numpy as np\n",
        "import random\n",
        "import math\n",
        "\n",
        "class ACO_TSP:\n",
        "    def __init__(self, cities, n_ants=10, n_iterations=100, alpha=1, beta=5, rho=0.5, Q=100):\n",
        "        self.cities = cities\n",
        "        self.n_ants = n_ants\n",
        "        self.n_iterations = n_iterations\n",
        "        self.alpha = alpha\n",
        "        self.beta = beta\n",
        "        self.rho = rho\n",
        "        self.Q = Q\n",
        "        self.n_cities = len(cities)\n",
        "        self.dist_matrix = self.calc_distances()\n",
        "        self.pheromone = np.ones((self.n_cities, self.n_cities))\n",
        "\n",
        "    def calc_distances(self):\n",
        "        dist = np.zeros((self.n_cities, self.n_cities))\n",
        "        for i in range(self.n_cities):\n",
        "            for j in range(self.n_cities):\n",
        "                dist[i][j] = math.hypot(self.cities[i][0] - self.cities[j][0], self.cities[i][1] - self.cities[j][1])\n",
        "        return dist\n",
        "\n",
        "    def route_length(self, route):\n",
        "        return sum(self.dist_matrix[route[i]][route[(i+1)%self.n_cities]] for i in range(self.n_cities))\n",
        "\n",
        "    def probability(self, i, unvisited):\n",
        "        pheromone = np.array([self.pheromone[i][j] for j in unvisited])\n",
        "        heuristic = np.array([1/self.dist_matrix[i][j] if self.dist_matrix[i][j] != 0 else 0 for j in unvisited])\n",
        "        probs = (pheromone ** self.alpha) * (heuristic ** self.beta)\n",
        "        return probs / probs.sum()\n",
        "\n",
        "    def construct_solution(self):\n",
        "        routes = []\n",
        "        lengths = []\n",
        "        for _ in range(self.n_ants):\n",
        "            route = [random.randint(0, self.n_cities - 1)]\n",
        "            unvisited = set(range(self.n_cities)) - {route[0]}\n",
        "            while unvisited:\n",
        "                i = route[-1]\n",
        "                probs = self.probability(i, list(unvisited))\n",
        "                next_city = random.choices(list(unvisited), weights=probs)[0]\n",
        "                route.append(next_city)\n",
        "                unvisited.remove(next_city)\n",
        "            routes.append(route)\n",
        "            lengths.append(self.route_length(route))\n",
        "        return routes, lengths\n",
        "\n",
        "    def update_pheromone(self, routes, lengths):\n",
        "        self.pheromone *= (1 - self.rho)\n",
        "        for r, L in zip(routes, lengths):\n",
        "            for i in range(self.n_cities):\n",
        "                a, b = r[i], r[(i+1)%self.n_cities]\n",
        "                self.pheromone[a][b] += self.Q / L\n",
        "                self.pheromone[b][a] += self.Q / L\n",
        "\n",
        "    def run(self):\n",
        "        best_route = None\n",
        "        best_length = float('inf')\n",
        "        for _ in range(self.n_iterations):\n",
        "            routes, lengths = self.construct_solution()\n",
        "            self.update_pheromone(routes, lengths)\n",
        "            min_length = min(lengths)\n",
        "            if min_length < best_length:\n",
        "                best_length = min_length\n",
        "                best_route = routes[lengths.index(min_length)]\n",
        "        return best_route, best_length\n",
        "\n",
        "cities = [(random.uniform(0,100), random.uniform(0,100)) for _ in range(10)]\n",
        "aco = ACO_TSP(cities)\n",
        "best_route, best_length = aco.run()\n",
        "print(\"Best Route:\", best_route)\n",
        "print(\"Best Length:\", best_length)\n"
      ]
    }
  ]
}